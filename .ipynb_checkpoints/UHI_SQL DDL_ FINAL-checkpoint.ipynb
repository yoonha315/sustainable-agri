{
 "cells": [
  {
   "attachments": {},
   "cell_type": "markdown",
   "id": "338606e0-74df-453e-b57c-18bd3c3ba72c",
   "metadata": {},
   "source": [
    "# Urban Heat Island Effect and Green Spaces (SQL DDL)"
   ]
  },
  {
   "cell_type": "code",
   "execution_count": 1,
   "id": "37c417f5-3e15-4bdb-a4e6-6d4cab674e95",
   "metadata": {},
   "outputs": [],
   "source": [
    "import sqlite3\n",
    "import pandas as pd"
   ]
  },
  {
   "cell_type": "code",
   "execution_count": 2,
   "id": "70eec805-5660-4f4c-a279-e5071e34bba1",
   "metadata": {},
   "outputs": [],
   "source": [
    "# Connect to the SQLite database\n",
    "conn = sqlite3.connect('uhi_green.db')\n",
    "\n",
    "# Get a cursor object\n",
    "cursor = conn.cursor()"
   ]
  },
  {
   "cell_type": "markdown",
   "id": "3c711d70-8b97-4561-9796-c5325912676c",
   "metadata": {},
   "source": [
    "## Create Table"
   ]
  },
  {
   "cell_type": "markdown",
   "id": "f2e4b84f-82a4-4b7e-8042-3d5e17c1b14c",
   "metadata": {},
   "source": [
    "### Entities"
   ]
  },
  {
   "attachments": {},
   "cell_type": "markdown",
   "id": "8844b359-65d3-405a-904e-c580373bd8ed",
   "metadata": {},
   "source": [
    "**Global Global Urban Heat Data in 2013**"
   ]
  },
  {
   "cell_type": "code",
   "execution_count": 3,
   "id": "4be4bf2b-294f-47fd-a916-8fd66f641c13",
   "metadata": {},
   "outputs": [
    {
     "data": {
      "text/plain": [
       "<sqlite3.Cursor at 0x12e8b2e40>"
      ]
     },
     "execution_count": 3,
     "metadata": {},
     "output_type": "execute_result"
    }
   ],
   "source": [
    "cursor.execute(\"\"\"\n",
    "CREATE TABLE Global_UHI_population (\n",
    "    ISOURBID CHAR(7),\n",
    "    ISO3 CHAR(3),\n",
    "    URBID INTEGER,\n",
    "    NAME CHAR(50),\n",
    "    SCHNM CHAR(50),\n",
    "    LATITUDE REAL,\n",
    "    LONGITUDE REAL,\n",
    "    ES90POP INTEGER,\n",
    "    ES95POP INTEGER,\n",
    "    ES00POP INTEGER,\n",
    "    PRIMARY KEY (ISOURBID)\n",
    ")\n",
    "\"\"\")"
   ]
  },
  {
   "cell_type": "code",
   "execution_count": 4,
   "id": "5818e063-cca3-4c54-8b12-d9610a2460b5",
   "metadata": {},
   "outputs": [
    {
     "data": {
      "text/plain": [
       "<sqlite3.Cursor at 0x12e8b2e40>"
      ]
     },
     "execution_count": 4,
     "metadata": {},
     "output_type": "execute_result"
    }
   ],
   "source": [
    "cursor.execute(\"\"\"\n",
    "CREATE TABLE Global_UHI_UHI (\n",
    "    ISOURBID CHAR(7),\n",
    "    ISO3 CHAR(3),\n",
    "    URBID INTEGER,\n",
    "    NAME CHAR(50),\n",
    "    SCHNM CHAR(50),\n",
    "    LATITUDE REAL,\n",
    "    LONGITUDE REAL,\n",
    "    SQKM_FINAL REAL,\n",
    "    URB_D_MEAN REAL,\n",
    "    BUF_D_MEAN REAL,\n",
    "    D_T_DIFF REAL,\n",
    "    URB_N_MEAN REAL,\n",
    "    BUF_N_MEAN REAL,\n",
    "    N_T_DIFF REAL,\n",
    "    PRIMARY KEY (ISOURBID)\n",
    ")\n",
    "\"\"\")"
   ]
  },
  {
   "attachments": {},
   "cell_type": "markdown",
   "id": "a08f6396-c9d3-4d45-b6c7-cefcad29051e",
   "metadata": {},
   "source": [
    "**USA population data**"
   ]
  },
  {
   "cell_type": "code",
   "execution_count": 5,
   "id": "4795e7d6-1b2f-4400-afc8-da16a6da9434",
   "metadata": {},
   "outputs": [
    {
     "data": {
      "text/plain": [
       "<sqlite3.Cursor at 0x12e8b2e40>"
      ]
     },
     "execution_count": 5,
     "metadata": {},
     "output_type": "execute_result"
    }
   ],
   "source": [
    "cursor.execute(\"\"\"\n",
    "CREATE TABLE USA_population (\n",
    "    Geographic_area CHAR(50),\n",
    "    Census Real,\n",
    "    Estimated_base Real,\n",
    "    Year Real,\n",
    "    Population Real,\n",
    "    PRIMARY KEY (Geographic_area)\n",
    ")\n",
    "\"\"\")"
   ]
  },
  {
   "attachments": {},
   "cell_type": "markdown",
   "id": "ebf72a82-4113-43fe-9c32-905364f914b8",
   "metadata": {},
   "source": [
    "**USA Park, Green Space**"
   ]
  },
  {
   "cell_type": "code",
   "execution_count": 6,
   "id": "5d19e9ae-5799-4218-b864-9c3024fd4845",
   "metadata": {},
   "outputs": [
    {
     "data": {
      "text/plain": [
       "<sqlite3.Cursor at 0x12e8b2e40>"
      ]
     },
     "execution_count": 6,
     "metadata": {},
     "output_type": "execute_result"
    }
   ],
   "source": [
    "cursor.execute(\"\"\"\n",
    "CREATE TABLE USA_park (\n",
    "    State CHAR(20),\n",
    "    Overall_Rank INTEGER,\n",
    "    Green_Energy_Rank INTEGER,\n",
    "    Open_Spaces_Beauty INTEGER,\n",
    "    Waste_Diversion_Recycling INTEGER,\n",
    "    Racial_Justice_Access_to_Clean_Outdoors INTEGER,\n",
    "    PRIMARY KEY (State)\n",
    ")\n",
    "\"\"\")"
   ]
  },
  {
   "cell_type": "markdown",
   "id": "7030e248-ab4f-46d3-9dc7-4060645341d2",
   "metadata": {},
   "source": [
    "### Relations"
   ]
  },
  {
   "cell_type": "code",
   "execution_count": 7,
   "id": "9916b5fa-65d6-49e1-95e2-4c20d6bc0fed",
   "metadata": {},
   "outputs": [
    {
     "data": {
      "text/plain": [
       "<sqlite3.Cursor at 0x12e8b2e40>"
      ]
     },
     "execution_count": 7,
     "metadata": {},
     "output_type": "execute_result"
    }
   ],
   "source": [
    "cursor.execute(\"\"\"\n",
    "CREATE TABLE GHI_POP (\n",
    "    ISOURBID CHAR(7),\n",
    "    Geographic_area CHAR(50),\n",
    "    PRIMARY KEY (ISOURBID, Geographic_area), \n",
    "    FOREIGN KEY (ISOURBID) REFERENCES Global_UHI_UHI\n",
    "    ON UPDATE CASCADE,\n",
    "    FOREIGN KEY (Geographic_area) REFERENCES USA_population\n",
    "    ON UPDATE CASCADE\n",
    ")\n",
    "\"\"\")"
   ]
  },
  {
   "cell_type": "code",
   "execution_count": 8,
   "id": "20a1ef83-319b-469f-98e0-94b9b5ff7d46",
   "metadata": {},
   "outputs": [
    {
     "data": {
      "text/plain": [
       "<sqlite3.Cursor at 0x12e8b2e40>"
      ]
     },
     "execution_count": 8,
     "metadata": {},
     "output_type": "execute_result"
    }
   ],
   "source": [
    "cursor.execute(\"\"\"\n",
    "CREATE TABLE GHI_PARK (\n",
    "    ISOURBID CHAR(7),\n",
    "    State CHAR(20),\n",
    "    PRIMARY KEY (ISOURBID, State), \n",
    "    FOREIGN KEY (ISOURBID) REFERENCES Global_UHI_UHI\n",
    "    ON UPDATE CASCADE,\n",
    "    FOREIGN KEY (State) REFERENCES USA_park\n",
    "    ON UPDATE CASCADE\n",
    ")\n",
    "\"\"\")"
   ]
  },
  {
   "cell_type": "code",
   "execution_count": 9,
   "id": "c0c37500-0d77-442a-8bfb-dae3655b7205",
   "metadata": {},
   "outputs": [
    {
     "data": {
      "text/plain": [
       "<sqlite3.Cursor at 0x12e8b2e40>"
      ]
     },
     "execution_count": 9,
     "metadata": {},
     "output_type": "execute_result"
    }
   ],
   "source": [
    "cursor.execute(\"\"\"\n",
    "CREATE TABLE POP_PARK (\n",
    "    Geographic_area CHAR(50),\n",
    "    State CHAR(20),\n",
    "    PRIMARY KEY (Geographic_area, State), \n",
    "    FOREIGN KEY (Geographic_area) REFERENCES USA_population\n",
    "    ON UPDATE CASCADE,\n",
    "    FOREIGN KEY (State) REFERENCES USA_park\n",
    "    ON UPDATE CASCADE\n",
    ")\n",
    "\"\"\")"
   ]
  },
  {
   "cell_type": "markdown",
   "id": "856e2034-ff69-4175-828b-5de8182ff1e5",
   "metadata": {},
   "source": [
    "## Input Data"
   ]
  },
  {
   "cell_type": "markdown",
   "id": "b3586ef2-53ae-44ff-9f15-adc7dd67d9c8",
   "metadata": {},
   "source": [
    "**Global Global Urban Heat Data**"
   ]
  },
  {
   "cell_type": "code",
   "execution_count": 10,
   "id": "0531900a-5273-4caf-b384-dfa4d83e636c",
   "metadata": {},
   "outputs": [
    {
     "data": {
      "text/html": [
       "<div>\n",
       "<style scoped>\n",
       "    .dataframe tbody tr th:only-of-type {\n",
       "        vertical-align: middle;\n",
       "    }\n",
       "\n",
       "    .dataframe tbody tr th {\n",
       "        vertical-align: top;\n",
       "    }\n",
       "\n",
       "    .dataframe thead th {\n",
       "        text-align: right;\n",
       "    }\n",
       "</style>\n",
       "<table border=\"1\" class=\"dataframe\">\n",
       "  <thead>\n",
       "    <tr style=\"text-align: right;\">\n",
       "      <th></th>\n",
       "      <th>ISOURBID</th>\n",
       "      <th>ISO3</th>\n",
       "      <th>URBID</th>\n",
       "      <th>NAME</th>\n",
       "      <th>SCHNM</th>\n",
       "      <th>ES90POP</th>\n",
       "      <th>ES95POP</th>\n",
       "      <th>ES00POP</th>\n",
       "      <th>SQKM_FINAL</th>\n",
       "      <th>URB_D_MEAN</th>\n",
       "      <th>BUF_D_MEAN</th>\n",
       "      <th>D_T_DIFF</th>\n",
       "      <th>URB_N_MEAN</th>\n",
       "      <th>BUF_N_MEAN</th>\n",
       "      <th>N_T_DIFF</th>\n",
       "      <th>LATITUDE</th>\n",
       "      <th>LONGITUDE</th>\n",
       "    </tr>\n",
       "  </thead>\n",
       "  <tbody>\n",
       "    <tr>\n",
       "      <th>0</th>\n",
       "      <td>GRL8</td>\n",
       "      <td>GRL</td>\n",
       "      <td>8</td>\n",
       "      <td>Upernavik</td>\n",
       "      <td>UPERNAVIK</td>\n",
       "      <td>918</td>\n",
       "      <td>1015.0</td>\n",
       "      <td>1123</td>\n",
       "      <td>4.93</td>\n",
       "      <td>7.05</td>\n",
       "      <td>7.95</td>\n",
       "      <td>-0.90</td>\n",
       "      <td>-3.16</td>\n",
       "      <td>-1.66</td>\n",
       "      <td>-1.50</td>\n",
       "      <td>72.788598</td>\n",
       "      <td>-56.140056</td>\n",
       "    </tr>\n",
       "    <tr>\n",
       "      <th>1</th>\n",
       "      <td>USA15</td>\n",
       "      <td>USA</td>\n",
       "      <td>15</td>\n",
       "      <td>Barrow</td>\n",
       "      <td>BARROW</td>\n",
       "      <td>3469</td>\n",
       "      <td>3986.0</td>\n",
       "      <td>4581</td>\n",
       "      <td>152.21</td>\n",
       "      <td>10.65</td>\n",
       "      <td>12.41</td>\n",
       "      <td>-1.76</td>\n",
       "      <td>-0.45</td>\n",
       "      <td>0.80</td>\n",
       "      <td>-1.25</td>\n",
       "      <td>71.303963</td>\n",
       "      <td>-156.730206</td>\n",
       "    </tr>\n",
       "    <tr>\n",
       "      <th>2</th>\n",
       "      <td>NOR17</td>\n",
       "      <td>NOR</td>\n",
       "      <td>17</td>\n",
       "      <td>Honningsvg</td>\n",
       "      <td>HONNINGSVAG</td>\n",
       "      <td>2237</td>\n",
       "      <td>2356.0</td>\n",
       "      <td>2510</td>\n",
       "      <td>47.58</td>\n",
       "      <td>16.66</td>\n",
       "      <td>14.53</td>\n",
       "      <td>2.13</td>\n",
       "      <td>5.43</td>\n",
       "      <td>6.72</td>\n",
       "      <td>-1.29</td>\n",
       "      <td>71.004989</td>\n",
       "      <td>25.962568</td>\n",
       "    </tr>\n",
       "    <tr>\n",
       "      <th>3</th>\n",
       "      <td>NOR19</td>\n",
       "      <td>NOR</td>\n",
       "      <td>19</td>\n",
       "      <td>Hav?ysund</td>\n",
       "      <td>HAVOYSUND</td>\n",
       "      <td>1285</td>\n",
       "      <td>1235.0</td>\n",
       "      <td>1163</td>\n",
       "      <td>19.44</td>\n",
       "      <td>14.61</td>\n",
       "      <td>14.87</td>\n",
       "      <td>-0.26</td>\n",
       "      <td>5.61</td>\n",
       "      <td>5.75</td>\n",
       "      <td>-0.14</td>\n",
       "      <td>70.983068</td>\n",
       "      <td>24.652803</td>\n",
       "    </tr>\n",
       "    <tr>\n",
       "      <th>4</th>\n",
       "      <td>NOR21</td>\n",
       "      <td>NOR</td>\n",
       "      <td>21</td>\n",
       "      <td>Kj?llefjord</td>\n",
       "      <td>KJOLLEFJORD</td>\n",
       "      <td>1159</td>\n",
       "      <td>1115.0</td>\n",
       "      <td>1049</td>\n",
       "      <td>35.16</td>\n",
       "      <td>20.33</td>\n",
       "      <td>18.24</td>\n",
       "      <td>2.09</td>\n",
       "      <td>4.57</td>\n",
       "      <td>6.96</td>\n",
       "      <td>-2.40</td>\n",
       "      <td>70.943870</td>\n",
       "      <td>27.356392</td>\n",
       "    </tr>\n",
       "  </tbody>\n",
       "</table>\n",
       "</div>"
      ],
      "text/plain": [
       "  ISOURBID ISO3  URBID         NAME        SCHNM  ES90POP  ES95POP  ES00POP  \\\n",
       "0     GRL8  GRL      8    Upernavik    UPERNAVIK      918   1015.0     1123   \n",
       "1    USA15  USA     15       Barrow       BARROW     3469   3986.0     4581   \n",
       "2    NOR17  NOR     17  Honningsvg  HONNINGSVAG     2237   2356.0     2510   \n",
       "3    NOR19  NOR     19    Hav?ysund    HAVOYSUND     1285   1235.0     1163   \n",
       "4    NOR21  NOR     21  Kj?llefjord  KJOLLEFJORD     1159   1115.0     1049   \n",
       "\n",
       "   SQKM_FINAL  URB_D_MEAN  BUF_D_MEAN  D_T_DIFF  URB_N_MEAN  BUF_N_MEAN  \\\n",
       "0        4.93        7.05        7.95     -0.90       -3.16       -1.66   \n",
       "1      152.21       10.65       12.41     -1.76       -0.45        0.80   \n",
       "2       47.58       16.66       14.53      2.13        5.43        6.72   \n",
       "3       19.44       14.61       14.87     -0.26        5.61        5.75   \n",
       "4       35.16       20.33       18.24      2.09        4.57        6.96   \n",
       "\n",
       "   N_T_DIFF   LATITUDE   LONGITUDE  \n",
       "0     -1.50  72.788598  -56.140056  \n",
       "1     -1.25  71.303963 -156.730206  \n",
       "2     -1.29  71.004989   25.962568  \n",
       "3     -0.14  70.983068   24.652803  \n",
       "4     -2.40  70.943870   27.356392  "
      ]
     },
     "execution_count": 10,
     "metadata": {},
     "output_type": "execute_result"
    }
   ],
   "source": [
    "uhi_df = pd.read_csv('Data/USA_UHI.csv', encoding='ISO-8859-1')\n",
    "uhi_df.head()"
   ]
  },
  {
   "cell_type": "code",
   "execution_count": 11,
   "id": "8372a41c-2ee4-4e1e-917c-ab69b8c8410b",
   "metadata": {},
   "outputs": [
    {
     "data": {
      "text/html": [
       "<div>\n",
       "<style scoped>\n",
       "    .dataframe tbody tr th:only-of-type {\n",
       "        vertical-align: middle;\n",
       "    }\n",
       "\n",
       "    .dataframe tbody tr th {\n",
       "        vertical-align: top;\n",
       "    }\n",
       "\n",
       "    .dataframe thead th {\n",
       "        text-align: right;\n",
       "    }\n",
       "</style>\n",
       "<table border=\"1\" class=\"dataframe\">\n",
       "  <thead>\n",
       "    <tr style=\"text-align: right;\">\n",
       "      <th></th>\n",
       "      <th>ISOURBID</th>\n",
       "      <th>ISO3</th>\n",
       "      <th>URBID</th>\n",
       "      <th>NAME</th>\n",
       "      <th>SCHNM</th>\n",
       "      <th>LATITUDE</th>\n",
       "      <th>LONGITUDE</th>\n",
       "      <th>ES90POP</th>\n",
       "      <th>ES95POP</th>\n",
       "      <th>ES00POP</th>\n",
       "    </tr>\n",
       "  </thead>\n",
       "  <tbody>\n",
       "    <tr>\n",
       "      <th>0</th>\n",
       "      <td>GRL8</td>\n",
       "      <td>GRL</td>\n",
       "      <td>8</td>\n",
       "      <td>Upernavik</td>\n",
       "      <td>UPERNAVIK</td>\n",
       "      <td>72.788598</td>\n",
       "      <td>-56.140056</td>\n",
       "      <td>918</td>\n",
       "      <td>1015.0</td>\n",
       "      <td>1123</td>\n",
       "    </tr>\n",
       "    <tr>\n",
       "      <th>1</th>\n",
       "      <td>USA15</td>\n",
       "      <td>USA</td>\n",
       "      <td>15</td>\n",
       "      <td>Barrow</td>\n",
       "      <td>BARROW</td>\n",
       "      <td>71.303963</td>\n",
       "      <td>-156.730206</td>\n",
       "      <td>3469</td>\n",
       "      <td>3986.0</td>\n",
       "      <td>4581</td>\n",
       "    </tr>\n",
       "    <tr>\n",
       "      <th>2</th>\n",
       "      <td>NOR17</td>\n",
       "      <td>NOR</td>\n",
       "      <td>17</td>\n",
       "      <td>Honningsvg</td>\n",
       "      <td>HONNINGSVAG</td>\n",
       "      <td>71.004989</td>\n",
       "      <td>25.962568</td>\n",
       "      <td>2237</td>\n",
       "      <td>2356.0</td>\n",
       "      <td>2510</td>\n",
       "    </tr>\n",
       "    <tr>\n",
       "      <th>3</th>\n",
       "      <td>NOR19</td>\n",
       "      <td>NOR</td>\n",
       "      <td>19</td>\n",
       "      <td>Hav?ysund</td>\n",
       "      <td>HAVOYSUND</td>\n",
       "      <td>70.983068</td>\n",
       "      <td>24.652803</td>\n",
       "      <td>1285</td>\n",
       "      <td>1235.0</td>\n",
       "      <td>1163</td>\n",
       "    </tr>\n",
       "    <tr>\n",
       "      <th>4</th>\n",
       "      <td>NOR21</td>\n",
       "      <td>NOR</td>\n",
       "      <td>21</td>\n",
       "      <td>Kj?llefjord</td>\n",
       "      <td>KJOLLEFJORD</td>\n",
       "      <td>70.943870</td>\n",
       "      <td>27.356392</td>\n",
       "      <td>1159</td>\n",
       "      <td>1115.0</td>\n",
       "      <td>1049</td>\n",
       "    </tr>\n",
       "  </tbody>\n",
       "</table>\n",
       "</div>"
      ],
      "text/plain": [
       "  ISOURBID ISO3  URBID         NAME        SCHNM   LATITUDE   LONGITUDE  \\\n",
       "0     GRL8  GRL      8    Upernavik    UPERNAVIK  72.788598  -56.140056   \n",
       "1    USA15  USA     15       Barrow       BARROW  71.303963 -156.730206   \n",
       "2    NOR17  NOR     17  Honningsvg  HONNINGSVAG  71.004989   25.962568   \n",
       "3    NOR19  NOR     19    Hav?ysund    HAVOYSUND  70.983068   24.652803   \n",
       "4    NOR21  NOR     21  Kj?llefjord  KJOLLEFJORD  70.943870   27.356392   \n",
       "\n",
       "   ES90POP  ES95POP  ES00POP  \n",
       "0      918   1015.0     1123  \n",
       "1     3469   3986.0     4581  \n",
       "2     2237   2356.0     2510  \n",
       "3     1285   1235.0     1163  \n",
       "4     1159   1115.0     1049  "
      ]
     },
     "execution_count": 11,
     "metadata": {},
     "output_type": "execute_result"
    }
   ],
   "source": [
    "UHI_population_df = uhi_df[['ISOURBID', 'ISO3', 'URBID', 'NAME', 'SCHNM', 'LATITUDE', 'LONGITUDE', 'ES90POP', 'ES95POP', 'ES00POP']]\n",
    "UHI_population_df.head()"
   ]
  },
  {
   "cell_type": "code",
   "execution_count": 12,
   "id": "67e0ab2e-04e7-4e3e-ab03-72c588e6d212",
   "metadata": {},
   "outputs": [
    {
     "data": {
      "text/plain": [
       "31500"
      ]
     },
     "execution_count": 12,
     "metadata": {},
     "output_type": "execute_result"
    }
   ],
   "source": [
    "UHI_population_df.columns = UHI_population_df.columns.str.strip()\n",
    "UHI_population_df.to_sql('Global_UHI_population', conn, if_exists = 'replace')"
   ]
  },
  {
   "cell_type": "code",
   "execution_count": 13,
   "id": "af191148-e03d-4f64-b39e-52f88c3794cd",
   "metadata": {},
   "outputs": [
    {
     "data": {
      "text/html": [
       "<div>\n",
       "<style scoped>\n",
       "    .dataframe tbody tr th:only-of-type {\n",
       "        vertical-align: middle;\n",
       "    }\n",
       "\n",
       "    .dataframe tbody tr th {\n",
       "        vertical-align: top;\n",
       "    }\n",
       "\n",
       "    .dataframe thead th {\n",
       "        text-align: right;\n",
       "    }\n",
       "</style>\n",
       "<table border=\"1\" class=\"dataframe\">\n",
       "  <thead>\n",
       "    <tr style=\"text-align: right;\">\n",
       "      <th></th>\n",
       "      <th>ISOURBID</th>\n",
       "      <th>ISO3</th>\n",
       "      <th>URBID</th>\n",
       "      <th>NAME</th>\n",
       "      <th>SCHNM</th>\n",
       "      <th>LATITUDE</th>\n",
       "      <th>LONGITUDE</th>\n",
       "      <th>SQKM_FINAL</th>\n",
       "      <th>URB_D_MEAN</th>\n",
       "      <th>BUF_D_MEAN</th>\n",
       "      <th>D_T_DIFF</th>\n",
       "      <th>URB_N_MEAN</th>\n",
       "      <th>BUF_N_MEAN</th>\n",
       "      <th>N_T_DIFF</th>\n",
       "    </tr>\n",
       "  </thead>\n",
       "  <tbody>\n",
       "    <tr>\n",
       "      <th>0</th>\n",
       "      <td>GRL8</td>\n",
       "      <td>GRL</td>\n",
       "      <td>8</td>\n",
       "      <td>Upernavik</td>\n",
       "      <td>UPERNAVIK</td>\n",
       "      <td>72.788598</td>\n",
       "      <td>-56.140056</td>\n",
       "      <td>4.93</td>\n",
       "      <td>7.05</td>\n",
       "      <td>7.95</td>\n",
       "      <td>-0.90</td>\n",
       "      <td>-3.16</td>\n",
       "      <td>-1.66</td>\n",
       "      <td>-1.50</td>\n",
       "    </tr>\n",
       "    <tr>\n",
       "      <th>1</th>\n",
       "      <td>USA15</td>\n",
       "      <td>USA</td>\n",
       "      <td>15</td>\n",
       "      <td>Barrow</td>\n",
       "      <td>BARROW</td>\n",
       "      <td>71.303963</td>\n",
       "      <td>-156.730206</td>\n",
       "      <td>152.21</td>\n",
       "      <td>10.65</td>\n",
       "      <td>12.41</td>\n",
       "      <td>-1.76</td>\n",
       "      <td>-0.45</td>\n",
       "      <td>0.80</td>\n",
       "      <td>-1.25</td>\n",
       "    </tr>\n",
       "    <tr>\n",
       "      <th>2</th>\n",
       "      <td>NOR17</td>\n",
       "      <td>NOR</td>\n",
       "      <td>17</td>\n",
       "      <td>Honningsvg</td>\n",
       "      <td>HONNINGSVAG</td>\n",
       "      <td>71.004989</td>\n",
       "      <td>25.962568</td>\n",
       "      <td>47.58</td>\n",
       "      <td>16.66</td>\n",
       "      <td>14.53</td>\n",
       "      <td>2.13</td>\n",
       "      <td>5.43</td>\n",
       "      <td>6.72</td>\n",
       "      <td>-1.29</td>\n",
       "    </tr>\n",
       "    <tr>\n",
       "      <th>3</th>\n",
       "      <td>NOR19</td>\n",
       "      <td>NOR</td>\n",
       "      <td>19</td>\n",
       "      <td>Hav?ysund</td>\n",
       "      <td>HAVOYSUND</td>\n",
       "      <td>70.983068</td>\n",
       "      <td>24.652803</td>\n",
       "      <td>19.44</td>\n",
       "      <td>14.61</td>\n",
       "      <td>14.87</td>\n",
       "      <td>-0.26</td>\n",
       "      <td>5.61</td>\n",
       "      <td>5.75</td>\n",
       "      <td>-0.14</td>\n",
       "    </tr>\n",
       "    <tr>\n",
       "      <th>4</th>\n",
       "      <td>NOR21</td>\n",
       "      <td>NOR</td>\n",
       "      <td>21</td>\n",
       "      <td>Kj?llefjord</td>\n",
       "      <td>KJOLLEFJORD</td>\n",
       "      <td>70.943870</td>\n",
       "      <td>27.356392</td>\n",
       "      <td>35.16</td>\n",
       "      <td>20.33</td>\n",
       "      <td>18.24</td>\n",
       "      <td>2.09</td>\n",
       "      <td>4.57</td>\n",
       "      <td>6.96</td>\n",
       "      <td>-2.40</td>\n",
       "    </tr>\n",
       "  </tbody>\n",
       "</table>\n",
       "</div>"
      ],
      "text/plain": [
       "  ISOURBID ISO3  URBID         NAME        SCHNM   LATITUDE   LONGITUDE  \\\n",
       "0     GRL8  GRL      8    Upernavik    UPERNAVIK  72.788598  -56.140056   \n",
       "1    USA15  USA     15       Barrow       BARROW  71.303963 -156.730206   \n",
       "2    NOR17  NOR     17  Honningsvg  HONNINGSVAG  71.004989   25.962568   \n",
       "3    NOR19  NOR     19    Hav?ysund    HAVOYSUND  70.983068   24.652803   \n",
       "4    NOR21  NOR     21  Kj?llefjord  KJOLLEFJORD  70.943870   27.356392   \n",
       "\n",
       "   SQKM_FINAL  URB_D_MEAN  BUF_D_MEAN  D_T_DIFF  URB_N_MEAN  BUF_N_MEAN  \\\n",
       "0        4.93        7.05        7.95     -0.90       -3.16       -1.66   \n",
       "1      152.21       10.65       12.41     -1.76       -0.45        0.80   \n",
       "2       47.58       16.66       14.53      2.13        5.43        6.72   \n",
       "3       19.44       14.61       14.87     -0.26        5.61        5.75   \n",
       "4       35.16       20.33       18.24      2.09        4.57        6.96   \n",
       "\n",
       "   N_T_DIFF  \n",
       "0     -1.50  \n",
       "1     -1.25  \n",
       "2     -1.29  \n",
       "3     -0.14  \n",
       "4     -2.40  "
      ]
     },
     "execution_count": 13,
     "metadata": {},
     "output_type": "execute_result"
    }
   ],
   "source": [
    "UHI_UHI_df = uhi_df[['ISOURBID', 'ISO3', 'URBID', 'NAME', 'SCHNM', 'LATITUDE', 'LONGITUDE', 'SQKM_FINAL', \n",
    "                         'URB_D_MEAN', 'BUF_D_MEAN', 'D_T_DIFF', 'URB_N_MEAN', 'BUF_N_MEAN', 'N_T_DIFF']]\n",
    "\n",
    "UHI_UHI_df.head()"
   ]
  },
  {
   "cell_type": "code",
   "execution_count": 14,
   "id": "d5f35d95-07ba-49ee-a21f-cc683795a2cf",
   "metadata": {},
   "outputs": [
    {
     "data": {
      "text/plain": [
       "31500"
      ]
     },
     "execution_count": 14,
     "metadata": {},
     "output_type": "execute_result"
    }
   ],
   "source": [
    "UHI_UHI_df.columns = UHI_UHI_df.columns.str.strip()\n",
    "UHI_UHI_df.to_sql('Global_UHI_UHI', conn, if_exists = 'replace')"
   ]
  },
  {
   "cell_type": "markdown",
   "id": "42d385dc-c0b0-48f9-80f0-aecceb51aee0",
   "metadata": {},
   "source": [
    "**USA population data**"
   ]
  },
  {
   "cell_type": "code",
   "execution_count": 15,
   "id": "456ca2a8-7528-4d9d-a505-eabe3f388dc6",
   "metadata": {},
   "outputs": [
    {
     "data": {
      "text/html": [
       "<div>\n",
       "<style scoped>\n",
       "    .dataframe tbody tr th:only-of-type {\n",
       "        vertical-align: middle;\n",
       "    }\n",
       "\n",
       "    .dataframe tbody tr th {\n",
       "        vertical-align: top;\n",
       "    }\n",
       "\n",
       "    .dataframe thead th {\n",
       "        text-align: right;\n",
       "    }\n",
       "</style>\n",
       "<table border=\"1\" class=\"dataframe\">\n",
       "  <thead>\n",
       "    <tr style=\"text-align: right;\">\n",
       "      <th></th>\n",
       "      <th>Geographic Area</th>\n",
       "      <th>Census</th>\n",
       "      <th>Estimates Base</th>\n",
       "      <th>Year</th>\n",
       "      <th>Population</th>\n",
       "    </tr>\n",
       "  </thead>\n",
       "  <tbody>\n",
       "    <tr>\n",
       "      <th>0</th>\n",
       "      <td>United States</td>\n",
       "      <td>308,745,538</td>\n",
       "      <td>308,758,105</td>\n",
       "      <td>2010</td>\n",
       "      <td>309,321,666</td>\n",
       "    </tr>\n",
       "    <tr>\n",
       "      <th>1</th>\n",
       "      <td>Northeast</td>\n",
       "      <td>55,317,240</td>\n",
       "      <td>55,318,443</td>\n",
       "      <td>2010</td>\n",
       "      <td>55,380,134</td>\n",
       "    </tr>\n",
       "    <tr>\n",
       "      <th>2</th>\n",
       "      <td>Midwest</td>\n",
       "      <td>66,927,001</td>\n",
       "      <td>66,929,725</td>\n",
       "      <td>2010</td>\n",
       "      <td>66,974,416</td>\n",
       "    </tr>\n",
       "    <tr>\n",
       "      <th>3</th>\n",
       "      <td>South</td>\n",
       "      <td>114,555,744</td>\n",
       "      <td>114,563,030</td>\n",
       "      <td>2010</td>\n",
       "      <td>114,866,680</td>\n",
       "    </tr>\n",
       "    <tr>\n",
       "      <th>4</th>\n",
       "      <td>West</td>\n",
       "      <td>71,945,553</td>\n",
       "      <td>71,946,907</td>\n",
       "      <td>2010</td>\n",
       "      <td>72,100,436</td>\n",
       "    </tr>\n",
       "    <tr>\n",
       "      <th>5</th>\n",
       "      <td>Alabama</td>\n",
       "      <td>4,779,736</td>\n",
       "      <td>4,780,125</td>\n",
       "      <td>2010</td>\n",
       "      <td>4,785,437</td>\n",
       "    </tr>\n",
       "    <tr>\n",
       "      <th>6</th>\n",
       "      <td>Alaska</td>\n",
       "      <td>710,231</td>\n",
       "      <td>710,249</td>\n",
       "      <td>2010</td>\n",
       "      <td>713,910</td>\n",
       "    </tr>\n",
       "    <tr>\n",
       "      <th>7</th>\n",
       "      <td>Arizona</td>\n",
       "      <td>6,392,017</td>\n",
       "      <td>6,392,288</td>\n",
       "      <td>2010</td>\n",
       "      <td>6,407,172</td>\n",
       "    </tr>\n",
       "    <tr>\n",
       "      <th>8</th>\n",
       "      <td>Arkansas</td>\n",
       "      <td>2,915,918</td>\n",
       "      <td>2,916,031</td>\n",
       "      <td>2010</td>\n",
       "      <td>2,921,964</td>\n",
       "    </tr>\n",
       "    <tr>\n",
       "      <th>9</th>\n",
       "      <td>California</td>\n",
       "      <td>37,253,956</td>\n",
       "      <td>37,254,519</td>\n",
       "      <td>2010</td>\n",
       "      <td>37,319,502</td>\n",
       "    </tr>\n",
       "  </tbody>\n",
       "</table>\n",
       "</div>"
      ],
      "text/plain": [
       "  Geographic Area       Census Estimates Base  Year   Population\n",
       "0   United States  308,745,538    308,758,105  2010  309,321,666\n",
       "1       Northeast   55,317,240     55,318,443  2010   55,380,134\n",
       "2         Midwest   66,927,001     66,929,725  2010   66,974,416\n",
       "3           South  114,555,744    114,563,030  2010  114,866,680\n",
       "4            West   71,945,553     71,946,907  2010   72,100,436\n",
       "5         Alabama    4,779,736      4,780,125  2010    4,785,437\n",
       "6          Alaska      710,231        710,249  2010      713,910\n",
       "7         Arizona    6,392,017      6,392,288  2010    6,407,172\n",
       "8        Arkansas    2,915,918      2,916,031  2010    2,921,964\n",
       "9      California   37,253,956     37,254,519  2010   37,319,502"
      ]
     },
     "execution_count": 15,
     "metadata": {},
     "output_type": "execute_result"
    }
   ],
   "source": [
    "population_df = pd.read_csv('Data/USA_Population.csv', skiprows=3, nrows=58)\n",
    "\n",
    "# Modify the dataset Year column\n",
    "population_df = population_df.melt(id_vars=['Geographic Area', 'Census', 'Estimates Base'], var_name='Year', value_name='Population')\n",
    "population_df['Year'] = population_df['Year'].str.extract(r'(\\d+)').astype(int)\n",
    "\n",
    "# Function to remove leading dots\n",
    "def remove_leading_dot(name):\n",
    "    if name.startswith('.'):\n",
    "        return name[1:]\n",
    "    else:\n",
    "        return name\n",
    "\n",
    "population_df[\"Geographic Area\"] = population_df[\"Geographic Area\"].apply(remove_leading_dot)\n",
    "\n",
    "population_df.head(10)"
   ]
  },
  {
   "cell_type": "code",
   "execution_count": 16,
   "id": "98fc9406-7771-44c7-89e8-8c792dd7fd75",
   "metadata": {},
   "outputs": [
    {
     "data": {
      "text/plain": [
       "580"
      ]
     },
     "execution_count": 16,
     "metadata": {},
     "output_type": "execute_result"
    }
   ],
   "source": [
    "population_df.columns = population_df.columns.str.strip()\n",
    "population_df.to_sql('USA_population', conn, if_exists = 'replace')"
   ]
  },
  {
   "cell_type": "markdown",
   "id": "ca36812d-b7ae-4cc0-815d-269e01a956e9",
   "metadata": {},
   "source": [
    "**USA Park, Green Space**"
   ]
  },
  {
   "cell_type": "code",
   "execution_count": 17,
   "id": "e8c86f6e-73c3-43bf-be32-f5cff3410e58",
   "metadata": {},
   "outputs": [
    {
     "data": {
      "text/plain": [
       "<sqlite3.Cursor at 0x12e8b2e40>"
      ]
     },
     "execution_count": 17,
     "metadata": {},
     "output_type": "execute_result"
    }
   ],
   "source": [
    "sql_insert = \"\"\"\n",
    "INSERT INTO USA_park (State, Overall_Rank, Green_Energy_Rank, Open_Spaces_Beauty, Waste_Diversion_Recycling, Racial_Justice_Access_to_Clean_Outdoors)\n",
    "VALUES (?, ?, ?, ?, ?, ?)\n",
    "\"\"\"\n",
    "\n",
    "# Data to be inserted\n",
    "data = [\n",
    "    ('Washington', 1, 10, 6, 2, 12),\n",
    "('Hawaii', 2, 1, 2, 24, 8),\n",
    "('California', 3, 25, 1, 1, 9),\n",
    "('Rhode Island', 4, 1, 29, 16, 3),\n",
    "('Maine', 5, 1, 25, 4, 28),\n",
    "('Florida', 6, 18, 6, 5, 14),\n",
    "('New Hampshire', 7, 22, 32, 5, 1),\n",
    "('Vermont', 8, 21, 40, 2, 2),\n",
    "('Delaware', 9, 1, 21, 7, 46),\n",
    "('Oregon', 10, 7, 39, 15, 9),\n",
    "('Minnesota', 11, 12, 45, 17, 3),\n",
    "('Michigan', 12, 24, 4, 11, 18),\n",
    "('Massachusetts', 13, 16, 5, 18, 25),\n",
    "('Maryland', 14, 26, 8, 10, 13),\n",
    "('New York', 15, 15, 8, 30, 16),\n",
    "('Nevada', 16, 8, 41, 8, 36),\n",
    "('Idaho', 17, 1, 46, 25, 30),\n",
    "('Wisconsin', 18, 14, 19, 29, 24),\n",
    "('Virginia', 19, 37, 13, 12, 7),\n",
    "('Tennessee', 20, 20, 21, 27, 21),\n",
    "('South Dakota', 21, 9, 38, 35, 20),\n",
    "('Connecticut', 22, 31, 16, 19, 21),\n",
    "('Missouri', 23, 17, 41, 35, 6),\n",
    "('Georgia', 24, 19, 37, 40, 16),\n",
    "('New Jersey', 25, 40, 10, 22, 14),\n",
    "('Pennsylvania', 26, 41, 18, 9, 31),\n",
    "('Iowa', 27, 11, 50, 27, 34),\n",
    "('Kentucky', 28, 45, 11, 32, 5),\n",
    "('North Carolina', 29, 23, 3, 44, 37),\n",
    "('Arkansas', 30, 32, 35, 38, 9),\n",
    "('Alabama', 31, 27, 29, 32, 39),\n",
    "('Nebraska', 32, 13, 48, 37, 40),\n",
    "('South Carolina', 33, 28, 29, 34, 38),\n",
    "('West Virginia', 34, 49, 17, 25, 23),\n",
    "('Colorado', 35, 42, 15, 19, 43),\n",
    "('Texas', 36, 44, 21, 13, 44),\n",
    "('Ohio', 36, 38, 26, 30, 35),\n",
    "('Arizona', 38, 30, 13, 41, 42),\n",
    "('New Mexico', 39, 48, 32, 21, 27),\n",
    "('Montana', 40, 36, 26, 38, 32),\n",
    "('Wyoming', 41, 51, 24, 22, 28),\n",
    "('Mississippi', 42, 33, 43, 48, 18),\n",
    "('Utah', 43, 46, 12, 13, 50),\n",
    "('Kansas', 44, 35, 49, 41, 25),\n",
    "('Illinois', 45, 34, 28, 43, 45),\n",
    "('Indiana', 46, 29, 34, 45, 48),\n",
    "('North Dakota', 47, 39, 47, 46, 32),\n",
    "('Oklahoma', 48, 43, 43, 47, 40),\n",
    "('Alaska', 49, 50, 19, 50, 46),\n",
    "('Louisiana', 50, 47, 36, 49, 49)\n",
    "]\n",
    "\n",
    "# Execute the insert statement for each row of data\n",
    "cursor.executemany(sql_insert, data)\n"
   ]
  },
  {
   "cell_type": "code",
   "execution_count": null,
   "id": "adc1f48f-ea6a-4a1b-a98e-9c39149be085",
   "metadata": {},
   "outputs": [],
   "source": []
  }
 ],
 "metadata": {
  "kernelspec": {
   "display_name": "Python 3 (ipykernel)",
   "language": "python",
   "name": "python3"
  },
  "language_info": {
   "codemirror_mode": {
    "name": "ipython",
    "version": 3
   },
   "file_extension": ".py",
   "mimetype": "text/x-python",
   "name": "python",
   "nbconvert_exporter": "python",
   "pygments_lexer": "ipython3",
   "version": "3.11.5"
  }
 },
 "nbformat": 4,
 "nbformat_minor": 5
}
