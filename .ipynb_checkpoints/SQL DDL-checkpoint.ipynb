{
 "cells": [
  {
   "attachments": {},
   "cell_type": "markdown",
   "id": "338606e0-74df-453e-b57c-18bd3c3ba72c",
   "metadata": {},
   "source": [
    "# Urban Heat Island Effect and Green Spaces (SQL DDL)"
   ]
  },
  {
   "cell_type": "code",
   "execution_count": 1,
   "id": "37c417f5-3e15-4bdb-a4e6-6d4cab674e95",
   "metadata": {},
   "outputs": [],
   "source": [
    "import sqlite3"
   ]
  },
  {
   "cell_type": "code",
   "execution_count": 2,
   "id": "70eec805-5660-4f4c-a279-e5071e34bba1",
   "metadata": {},
   "outputs": [],
   "source": [
    "# Connect to the SQLite database\n",
    "conn = sqlite3.connect('database.db')\n",
    "\n",
    "# Get a cursor object\n",
    "cursor = conn.cursor()"
   ]
  },
  {
   "cell_type": "markdown",
   "id": "3c711d70-8b97-4561-9796-c5325912676c",
   "metadata": {},
   "source": [
    "## Create Table"
   ]
  },
  {
   "cell_type": "markdown",
   "id": "f2e4b84f-82a4-4b7e-8042-3d5e17c1b14c",
   "metadata": {},
   "source": [
    "### Entities"
   ]
  },
  {
   "attachments": {},
   "cell_type": "markdown",
   "id": "8844b359-65d3-405a-904e-c580373bd8ed",
   "metadata": {},
   "source": [
    "**Global Global Urban Heat Data in 2013**"
   ]
  },
  {
   "cell_type": "code",
   "execution_count": 3,
   "id": "4be4bf2b-294f-47fd-a916-8fd66f641c13",
   "metadata": {},
   "outputs": [
    {
     "data": {
      "text/plain": [
       "<sqlite3.Cursor at 0x107f8abc0>"
      ]
     },
     "execution_count": 3,
     "metadata": {},
     "output_type": "execute_result"
    }
   ],
   "source": [
    "cursor.execute(\"\"\"\n",
    "CREATE TABLE Global_UHI_population (\n",
    "    ISOURBID CHAR(7),\n",
    "    ISO3 CHAR(3),\n",
    "    URBID INTEGER,\n",
    "    NAME CHAR(50),\n",
    "    SCHNM CHAR(50),\n",
    "    LATITUDE REAL,\n",
    "    LONGITUDE REAL,\n",
    "    ES90POP INTEGER,\n",
    "    ES95POP INTEGER,\n",
    "    ES00POP INTEGER,\n",
    "    PRIMARY KEY (ISOURBID)\n",
    ")\n",
    "\"\"\")"
   ]
  },
  {
   "cell_type": "code",
   "execution_count": 4,
   "id": "5818e063-cca3-4c54-8b12-d9610a2460b5",
   "metadata": {},
   "outputs": [
    {
     "data": {
      "text/plain": [
       "<sqlite3.Cursor at 0x107f8abc0>"
      ]
     },
     "execution_count": 4,
     "metadata": {},
     "output_type": "execute_result"
    }
   ],
   "source": [
    "cursor.execute(\"\"\"\n",
    "CREATE TABLE Global_UHI_UHI (\n",
    "    ISOURBID CHAR(7),\n",
    "    ISO3 CHAR(3),\n",
    "    URBID INTEGER,\n",
    "    NAME CHAR(50),\n",
    "    SCHNM CHAR(50),\n",
    "    LATITUDE REAL,\n",
    "    LONGITUDE REAL,\n",
    "    SQKM_FINAL REAL,\n",
    "    URB_D_MEAN REAL,\n",
    "    BUF_D_MEAN REAL,\n",
    "    D_T_DIFF REAL,\n",
    "    URB_N_MEAN REAL,\n",
    "    BUF_N_MEAN REAL,\n",
    "    N_T_DIFF REAL,\n",
    "    PRIMARY KEY (ISOURBID)\n",
    ")\n",
    "\"\"\")"
   ]
  },
  {
   "attachments": {},
   "cell_type": "markdown",
   "id": "a08f6396-c9d3-4d45-b6c7-cefcad29051e",
   "metadata": {},
   "source": [
    "**USA population data**"
   ]
  },
  {
   "cell_type": "code",
   "execution_count": 5,
   "id": "4795e7d6-1b2f-4400-afc8-da16a6da9434",
   "metadata": {},
   "outputs": [
    {
     "data": {
      "text/plain": [
       "<sqlite3.Cursor at 0x107f8abc0>"
      ]
     },
     "execution_count": 5,
     "metadata": {},
     "output_type": "execute_result"
    }
   ],
   "source": [
    "cursor.execute(\"\"\"\n",
    "CREATE TABLE USA_population (\n",
    "    Geographic_area CHAR(50),\n",
    "    Census Real,\n",
    "    Estimated_base Real,\n",
    "    Year Real,\n",
    "    Population Real,\n",
    "    PRIMARY KEY (Geographic_area)\n",
    ")\n",
    "\"\"\")"
   ]
  },
  {
   "attachments": {},
   "cell_type": "markdown",
   "id": "ebf72a82-4113-43fe-9c32-905364f914b8",
   "metadata": {},
   "source": [
    "**USA Park, Green Space**"
   ]
  },
  {
   "cell_type": "code",
   "execution_count": 6,
   "id": "5d19e9ae-5799-4218-b864-9c3024fd4845",
   "metadata": {},
   "outputs": [
    {
     "data": {
      "text/plain": [
       "<sqlite3.Cursor at 0x107f8abc0>"
      ]
     },
     "execution_count": 6,
     "metadata": {},
     "output_type": "execute_result"
    }
   ],
   "source": [
    "cursor.execute(\"\"\"\n",
    "CREATE TABLE USA_park (\n",
    "    State CHAR(20),\n",
    "    Overall_Rank INTEGER,\n",
    "    Green_Energy_Rank INTEGER,\n",
    "    Open_Spaces_Beauty INTEGER,\n",
    "    Waste_Diversion_Recycling INTEGER,\n",
    "    Racial_Justice_Access_to_Clean_Outdoors INTEGER,\n",
    "    PRIMARY KEY (State)\n",
    ")\n",
    "\"\"\")"
   ]
  },
  {
   "cell_type": "markdown",
   "id": "7030e248-ab4f-46d3-9dc7-4060645341d2",
   "metadata": {},
   "source": [
    "### Relations"
   ]
  },
  {
   "cell_type": "code",
   "execution_count": 7,
   "id": "9916b5fa-65d6-49e1-95e2-4c20d6bc0fed",
   "metadata": {},
   "outputs": [
    {
     "data": {
      "text/plain": [
       "<sqlite3.Cursor at 0x107f8abc0>"
      ]
     },
     "execution_count": 7,
     "metadata": {},
     "output_type": "execute_result"
    }
   ],
   "source": [
    "cursor.execute(\"\"\"\n",
    "CREATE TABLE GHI_POP (\n",
    "    ISOURBID CHAR(7),\n",
    "    Geographic_area CHAR(50),\n",
    "    PRIMARY KEY (ISOURBID, Geographic_area), \n",
    "    FOREIGN KEY (ISOURBID) REFERENCES Global_UHI_UHI\n",
    "    ON UPDATE CASCADE,\n",
    "    FOREIGN KEY (Geographic_area) REFERENCES USA_population\n",
    "    ON UPDATE CASCADE\n",
    ")\n",
    "\"\"\")"
   ]
  },
  {
   "cell_type": "code",
   "execution_count": 8,
   "id": "20a1ef83-319b-469f-98e0-94b9b5ff7d46",
   "metadata": {},
   "outputs": [
    {
     "data": {
      "text/plain": [
       "<sqlite3.Cursor at 0x107f8abc0>"
      ]
     },
     "execution_count": 8,
     "metadata": {},
     "output_type": "execute_result"
    }
   ],
   "source": [
    "cursor.execute(\"\"\"\n",
    "CREATE TABLE GHI_PARK (\n",
    "    ISOURBID CHAR(7),\n",
    "    State CHAR(20),\n",
    "    PRIMARY KEY (ISOURBID, State), \n",
    "    FOREIGN KEY (ISOURBID) REFERENCES Global_UHI_UHI\n",
    "    ON UPDATE CASCADE,\n",
    "    FOREIGN KEY (State) REFERENCES USA_park\n",
    "    ON UPDATE CASCADE\n",
    ")\n",
    "\"\"\")"
   ]
  },
  {
   "cell_type": "code",
   "execution_count": 9,
   "id": "c0c37500-0d77-442a-8bfb-dae3655b7205",
   "metadata": {},
   "outputs": [
    {
     "data": {
      "text/plain": [
       "<sqlite3.Cursor at 0x107f8abc0>"
      ]
     },
     "execution_count": 9,
     "metadata": {},
     "output_type": "execute_result"
    }
   ],
   "source": [
    "cursor.execute(\"\"\"\n",
    "CREATE TABLE POP_PARK (\n",
    "    Geographic_area CHAR(50),\n",
    "    State CHAR(20),\n",
    "    PRIMARY KEY (Geographic_area, State), \n",
    "    FOREIGN KEY (Geographic_area) REFERENCES USA_population\n",
    "    ON UPDATE CASCADE,\n",
    "    FOREIGN KEY (State) REFERENCES USA_park\n",
    "    ON UPDATE CASCADE\n",
    ")\n",
    "\"\"\")"
   ]
  },
  {
   "cell_type": "markdown",
   "id": "856e2034-ff69-4175-828b-5de8182ff1e5",
   "metadata": {},
   "source": [
    "## Input Data"
   ]
  },
  {
   "cell_type": "markdown",
   "id": "b3586ef2-53ae-44ff-9f15-adc7dd67d9c8",
   "metadata": {},
   "source": [
    "**Global Global Urban Heat Data**"
   ]
  },
  {
   "cell_type": "code",
   "execution_count": null,
   "id": "8372a41c-2ee4-4e1e-917c-ab69b8c8410b",
   "metadata": {},
   "outputs": [],
   "source": []
  },
  {
   "cell_type": "code",
   "execution_count": null,
   "id": "d5f35d95-07ba-49ee-a21f-cc683795a2cf",
   "metadata": {},
   "outputs": [],
   "source": []
  },
  {
   "cell_type": "markdown",
   "id": "42d385dc-c0b0-48f9-80f0-aecceb51aee0",
   "metadata": {},
   "source": [
    "**USA population data**"
   ]
  },
  {
   "cell_type": "code",
   "execution_count": null,
   "id": "456ca2a8-7528-4d9d-a505-eabe3f388dc6",
   "metadata": {},
   "outputs": [],
   "source": []
  },
  {
   "cell_type": "markdown",
   "id": "ca36812d-b7ae-4cc0-815d-269e01a956e9",
   "metadata": {},
   "source": [
    "**USA Park, Green Space**"
   ]
  },
  {
   "cell_type": "code",
   "execution_count": 10,
   "id": "e8c86f6e-73c3-43bf-be32-f5cff3410e58",
   "metadata": {},
   "outputs": [
    {
     "data": {
      "text/plain": [
       "<sqlite3.Cursor at 0x107f8abc0>"
      ]
     },
     "execution_count": 10,
     "metadata": {},
     "output_type": "execute_result"
    }
   ],
   "source": [
    "sql_insert = \"\"\"\n",
    "INSERT INTO USA_park (State, Overall_Rank, Green_Energy_Rank, Open_Spaces_Beauty, Waste_Diversion_Recycling, Racial_Justice_Access_to_Clean_Outdoors)\n",
    "VALUES (?, ?, ?, ?, ?, ?)\n",
    "\"\"\"\n",
    "\n",
    "# Data to be inserted\n",
    "data = [\n",
    "    ('Washington', 1, 10, 6, 2, 12),\n",
    "('Hawaii', 2, 1, 2, 24, 8),\n",
    "('California', 3, 25, 1, 1, 9),\n",
    "('Rhode Island', 4, 1, 29, 16, 3),\n",
    "('Maine', 5, 1, 25, 4, 28),\n",
    "('Florida', 6, 18, 6, 5, 14),\n",
    "('New Hampshire', 7, 22, 32, 5, 1),\n",
    "('Vermont', 8, 21, 40, 2, 2),\n",
    "('Delaware', 9, 1, 21, 7, 46),\n",
    "('Oregon', 10, 7, 39, 15, 9),\n",
    "('Minnesota', 11, 12, 45, 17, 3),\n",
    "('Michigan', 12, 24, 4, 11, 18),\n",
    "('Massachusetts', 13, 16, 5, 18, 25),\n",
    "('Maryland', 14, 26, 8, 10, 13),\n",
    "('New York', 15, 15, 8, 30, 16),\n",
    "('Nevada', 16, 8, 41, 8, 36),\n",
    "('Idaho', 17, 1, 46, 25, 30),\n",
    "('Wisconsin', 18, 14, 19, 29, 24),\n",
    "('Virginia', 19, 37, 13, 12, 7),\n",
    "('Tennessee', 20, 20, 21, 27, 21),\n",
    "('South Dakota', 21, 9, 38, 35, 20),\n",
    "('Connecticut', 22, 31, 16, 19, 21),\n",
    "('Missouri', 23, 17, 41, 35, 6),\n",
    "('Georgia', 24, 19, 37, 40, 16),\n",
    "('New Jersey', 25, 40, 10, 22, 14),\n",
    "('Pennsylvania', 26, 41, 18, 9, 31),\n",
    "('Iowa', 27, 11, 50, 27, 34),\n",
    "('Kentucky', 28, 45, 11, 32, 5),\n",
    "('North Carolina', 29, 23, 3, 44, 37),\n",
    "('Arkansas', 30, 32, 35, 38, 9),\n",
    "('Alabama', 31, 27, 29, 32, 39),\n",
    "('Nebraska', 32, 13, 48, 37, 40),\n",
    "('South Carolina', 33, 28, 29, 34, 38),\n",
    "('West Virginia', 34, 49, 17, 25, 23),\n",
    "('Colorado', 35, 42, 15, 19, 43),\n",
    "('Texas', 36, 44, 21, 13, 44),\n",
    "('Ohio', 36, 38, 26, 30, 35),\n",
    "('Arizona', 38, 30, 13, 41, 42),\n",
    "('New Mexico', 39, 48, 32, 21, 27),\n",
    "('Montana', 40, 36, 26, 38, 32),\n",
    "('Wyoming', 41, 51, 24, 22, 28),\n",
    "('Mississippi', 42, 33, 43, 48, 18),\n",
    "('Utah', 43, 46, 12, 13, 50),\n",
    "('Kansas', 44, 35, 49, 41, 25),\n",
    "('Illinois', 45, 34, 28, 43, 45),\n",
    "('Indiana', 46, 29, 34, 45, 48),\n",
    "('North Dakota', 47, 39, 47, 46, 32),\n",
    "('Oklahoma', 48, 43, 43, 47, 40),\n",
    "('Alaska', 49, 50, 19, 50, 46),\n",
    "('Louisiana', 50, 47, 36, 49, 49)\n",
    "]\n",
    "\n",
    "# Execute the insert statement for each row of data\n",
    "cursor.executemany(sql_insert, data)\n"
   ]
  },
  {
   "cell_type": "code",
   "execution_count": null,
   "id": "adc1f48f-ea6a-4a1b-a98e-9c39149be085",
   "metadata": {},
   "outputs": [],
   "source": []
  }
 ],
 "metadata": {
  "kernelspec": {
   "display_name": "Python 3 (ipykernel)",
   "language": "python",
   "name": "python3"
  },
  "language_info": {
   "codemirror_mode": {
    "name": "ipython",
    "version": 3
   },
   "file_extension": ".py",
   "mimetype": "text/x-python",
   "name": "python",
   "nbconvert_exporter": "python",
   "pygments_lexer": "ipython3",
   "version": "3.11.5"
  }
 },
 "nbformat": 4,
 "nbformat_minor": 5
}
